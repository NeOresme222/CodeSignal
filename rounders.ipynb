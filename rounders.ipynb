{
 "cells": [
  {
   "cell_type": "code",
   "execution_count": null,
   "metadata": {},
   "outputs": [],
   "source": [
    "def rounders(n):\n",
    "    strn = str(n)\n",
    "    bwdstr = ''\n",
    "    total = 0\n",
    "    for i in strn[:0:-1]:\n",
    "        if int(i) + total >= 5:\n",
    "            total = 1\n",
    "        else:\n",
    "            total = 0\n",
    "        bwdstr += '0'\n",
    "\n",
    "    return int(str(int(strn[0]) + total) + bwdstr[::-1])\n"
   ]
  }
 ],
 "metadata": {
  "kernelspec": {
   "display_name": "Python 3",
   "language": "python",
   "name": "python3"
  },
  "language_info": {
   "codemirror_mode": {
    "name": "ipython",
    "version": 3
   },
   "file_extension": ".py",
   "mimetype": "text/x-python",
   "name": "python",
   "nbconvert_exporter": "python",
   "pygments_lexer": "ipython3",
   "version": "3.7.7"
  }
 },
 "nbformat": 4,
 "nbformat_minor": 4
}
