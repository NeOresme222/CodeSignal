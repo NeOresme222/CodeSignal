{
 "cells": [
  {
   "cell_type": "code",
   "execution_count": null,
   "metadata": {},
   "outputs": [],
   "source": [
    "def candles(candlesNumber, makeNew):\n",
    "    total = candlesNumber\n",
    "    leftover = candlesNumber\n",
    "    q = 0\n",
    "    while leftover + q >= makeNew:\n",
    "        print(leftover, total)\n",
    "        remainder = leftover % makeNew\n",
    "        q = leftover // makeNew \n",
    "        total += q\n",
    "        leftover = q + remainder\n",
    "        print(remainder, q, total)\n",
    "        \n",
    "    return total"
   ]
  }
 ],
 "metadata": {
  "kernelspec": {
   "display_name": "Python 3",
   "language": "python",
   "name": "python3"
  },
  "language_info": {
   "codemirror_mode": {
    "name": "ipython",
    "version": 3
   },
   "file_extension": ".py",
   "mimetype": "text/x-python",
   "name": "python",
   "nbconvert_exporter": "python",
   "pygments_lexer": "ipython3",
   "version": "3.7.7"
  }
 },
 "nbformat": 4,
 "nbformat_minor": 4
}
