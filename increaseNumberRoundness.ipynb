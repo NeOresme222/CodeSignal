{
 "cells": [
  {
   "cell_type": "code",
   "execution_count": null,
   "metadata": {},
   "outputs": [],
   "source": [
    "def increaseNumberRoundness(n):\n",
    "    while n%10==0:\n",
    "\n",
    "        n //= 10\n",
    "    \n",
    "    temp = 1\n",
    "    while n:\n",
    "        print('    ',n)\n",
    "        temp *= n%10\n",
    "        print(temp)\n",
    "        n//=10\n",
    "        print('    ',n)\n",
    "    \n",
    "    if temp ==0:\n",
    "        return True\n",
    "    else:\n",
    "        return False"
   ]
  }
 ],
 "metadata": {
  "kernelspec": {
   "display_name": "Python 3",
   "language": "python",
   "name": "python3"
  },
  "language_info": {
   "codemirror_mode": {
    "name": "ipython",
    "version": 3
   },
   "file_extension": ".py",
   "mimetype": "text/x-python",
   "name": "python",
   "nbconvert_exporter": "python",
   "pygments_lexer": "ipython3",
   "version": "3.7.7"
  }
 },
 "nbformat": 4,
 "nbformat_minor": 4
}
