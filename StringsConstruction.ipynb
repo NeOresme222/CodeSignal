{
 "cells": [
  {
   "cell_type": "code",
   "execution_count": null,
   "metadata": {},
   "outputs": [],
   "source": [
    "def stringsConstruction(a, b):\n",
    "    d = dict()\n",
    "    \n",
    "    for letter in a:\n",
    "        if letter not in d:\n",
    "            A = a.count(letter)\n",
    "            B = b.count(letter)\n",
    "            d[letter] = (B // A)\n",
    "        \n",
    "    return min(d.values())\n"
   ]
  }
 ],
 "metadata": {
  "kernelspec": {
   "display_name": "Python 3",
   "language": "python",
   "name": "python3"
  },
  "language_info": {
   "codemirror_mode": {
    "name": "ipython",
    "version": 3
   },
   "file_extension": ".py",
   "mimetype": "text/x-python",
   "name": "python",
   "nbconvert_exporter": "python",
   "pygments_lexer": "ipython3",
   "version": "3.7.7"
  }
 },
 "nbformat": 4,
 "nbformat_minor": 4
}
