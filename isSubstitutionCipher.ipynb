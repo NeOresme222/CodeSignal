{
 "cells": [
  {
   "cell_type": "code",
   "execution_count": null,
   "metadata": {},
   "outputs": [],
   "source": [
    "def isSubstitutionCipher(string1, string2):\n",
    "    cipher = {}\n",
    "    used = {}\n",
    "    for i in range(len(string1)):\n",
    "        char1, char2 = string1[i], string2[i]\n",
    "        # Character found has not been substituted so far.\n",
    "        if char1 not in cipher:\n",
    "            # But we have to find out if the characters that will\n",
    "            # be used for substitution hasn't been used elsewhere.\n",
    "            if char2 in used:\n",
    "                return False\n",
    "            cipher[char1] = char2\n",
    "            used[char2] = 1\n",
    "        # The cipher is not consistent with previous substitutions.\n",
    "        elif cipher[char1] != char2:\n",
    "            return False\n",
    "\n",
    "    # The substitutions were consistent all along.\n",
    "    return True"
   ]
  }
 ],
 "metadata": {
  "kernelspec": {
   "display_name": "Python 3",
   "language": "python",
   "name": "python3"
  },
  "language_info": {
   "codemirror_mode": {
    "name": "ipython",
    "version": 3
   },
   "file_extension": ".py",
   "mimetype": "text/x-python",
   "name": "python",
   "nbconvert_exporter": "python",
   "pygments_lexer": "ipython3",
   "version": "3.7.7"
  }
 },
 "nbformat": 4,
 "nbformat_minor": 4
}
