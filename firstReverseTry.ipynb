{
 "cells": [
  {
   "cell_type": "code",
   "execution_count": null,
   "metadata": {},
   "outputs": [],
   "source": [
    "def firstReverseTry(arr):\n",
    "    if len(arr) > 2:\n",
    "        first = arr[0]\n",
    "        last = arr[-1]\n",
    "        del arr[0]\n",
    "        del arr[-1]\n",
    "        arr.insert(0,last)\n",
    "        arr.append(first)\n",
    "        return arr\n",
    "    return arr[::-1]"
   ]
  }
 ],
 "metadata": {
  "kernelspec": {
   "display_name": "Python 3",
   "language": "python",
   "name": "python3"
  },
  "language_info": {
   "codemirror_mode": {
    "name": "ipython",
    "version": 3
   },
   "file_extension": ".py",
   "mimetype": "text/x-python",
   "name": "python",
   "nbconvert_exporter": "python",
   "pygments_lexer": "ipython3",
   "version": "3.7.7"
  }
 },
 "nbformat": 4,
 "nbformat_minor": 4
}
