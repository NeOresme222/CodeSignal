{
 "cells": [
  {
   "cell_type": "code",
   "execution_count": null,
   "metadata": {},
   "outputs": [],
   "source": [
    "def comfortableNumbers(l, r):\n",
    "    def between(n):\n",
    "        low = n - sum(int(i) for i in str(n))\n",
    "        high = n + sum(int(i) for i in str(n))\n",
    "        return [i for i in range(low,high+1) if i <= r]\n",
    "    \n",
    "    tally = 0\n",
    "    \n",
    "    for j in range(l,r+1):\n",
    "        for k in between(j):\n",
    "            if j < k:\n",
    "                bet = between(k)\n",
    "                if bet[0] <= j <= bet[-1]:\n",
    "                    tally += 1\n",
    "            \n",
    "            \n",
    "    return tally"
   ]
  }
 ],
 "metadata": {
  "kernelspec": {
   "display_name": "Python 3",
   "language": "python",
   "name": "python3"
  },
  "language_info": {
   "codemirror_mode": {
    "name": "ipython",
    "version": 3
   },
   "file_extension": ".py",
   "mimetype": "text/x-python",
   "name": "python",
   "nbconvert_exporter": "python",
   "pygments_lexer": "ipython3",
   "version": "3.7.7"
  }
 },
 "nbformat": 4,
 "nbformat_minor": 4
}
