{
 "cells": [
  {
   "cell_type": "code",
   "execution_count": null,
   "metadata": {},
   "outputs": [],
   "source": [
    "def isSmooth(arr):\n",
    "    first = arr[0]\n",
    "    last = arr[-1]\n",
    "    \n",
    "    if len(arr) > 2:\n",
    "        if len(arr) % 2 == 0:\n",
    "            mid = int(len(arr) / 2)\n",
    "            middle = (arr[mid - 1] + arr[mid])\n",
    "    \n",
    "        if len(arr) % 2 != 0:\n",
    "            mid = int((len(arr) + 1) / 2)\n",
    "            middle = arr[mid - 1]\n",
    "    \n",
    "    else:\n",
    "        middle = arr[1]\n",
    "        \n",
    "    return first == last == middle\n"
   ]
  }
 ],
 "metadata": {
  "kernelspec": {
   "display_name": "Python 3",
   "language": "python",
   "name": "python3"
  },
  "language_info": {
   "codemirror_mode": {
    "name": "ipython",
    "version": 3
   },
   "file_extension": ".py",
   "mimetype": "text/x-python",
   "name": "python",
   "nbconvert_exporter": "python",
   "pygments_lexer": "ipython3",
   "version": "3.7.7"
  }
 },
 "nbformat": 4,
 "nbformat_minor": 4
}
