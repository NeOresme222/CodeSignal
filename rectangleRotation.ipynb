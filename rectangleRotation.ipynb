{
 "cells": [
  {
   "cell_type": "code",
   "execution_count": null,
   "metadata": {},
   "outputs": [],
   "source": [
    "import math\n",
    "\n",
    "def rectangleRotation(a, b):\n",
    "    pt = 0\n",
    "    radius = ((a/2)**2)+((b/2)**2)\n",
    "    radius = int(radius**.5)\n",
    "    deg = math.radians(-45)\n",
    "    \n",
    "    for i in range(-radius,radius+1):\n",
    "        for j in range(-radius,radius+1):\n",
    "            x = i*math.cos(deg) - j*math.sin(deg)\n",
    "            y = i*math.sin(deg) + j*math.cos(deg)\n",
    "            if -a/2<=x<=a/2 and -b/2<=y<=b/2:\n",
    "                pt += 1\n",
    "    return pt"
   ]
  }
 ],
 "metadata": {
  "kernelspec": {
   "display_name": "Python 3",
   "language": "python",
   "name": "python3"
  },
  "language_info": {
   "codemirror_mode": {
    "name": "ipython",
    "version": 3
   },
   "file_extension": ".py",
   "mimetype": "text/x-python",
   "name": "python",
   "nbconvert_exporter": "python",
   "pygments_lexer": "ipython3",
   "version": "3.7.7"
  }
 },
 "nbformat": 4,
 "nbformat_minor": 4
}
