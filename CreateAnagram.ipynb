{
 "cells": [
  {
   "cell_type": "code",
   "execution_count": 1,
   "metadata": {},
   "outputs": [],
   "source": [
    "def createAnagram(s, t):\n",
    "    d = dict()\n",
    "    length = 0\n",
    "    \n",
    "    for letter in t:\n",
    "        if letter not in s:\n",
    "            length += 1\n",
    "        if letter in s:\n",
    "            if letter not in d:\n",
    "                countt = t.count(letter)\n",
    "                counts = s.count(letter)\n",
    "                if counts > countt:\n",
    "                    d[letter] = counts - countt\n",
    "        \n",
    "    return sum(d.values()) + length"
   ]
  },
  {
   "cell_type": "code",
   "execution_count": 3,
   "metadata": {},
   "outputs": [],
   "source": [
    "def createAnagram(s, t):\n",
    "    totals = 0\n",
    "    ds = dict()\n",
    "    \n",
    "    for i in s:\n",
    "        if i not in t:\n",
    "            totals += 1\n",
    "        if i in t:\n",
    "            if i not in ds:\n",
    "                cs = s.count(i)\n",
    "                ct = t.count(i)\n",
    "                if cs - ct > 0:\n",
    "                    ds[i] = cs - ct\n",
    "                else:\n",
    "                    ds[i] = 0\n",
    "            \n",
    "    return totals + sum(ds.values())"
   ]
  },
  {
   "cell_type": "code",
   "execution_count": null,
   "metadata": {},
   "outputs": [],
   "source": [
    "def createAnagram(s, t):\n",
    "    total = 0\n",
    "    dt = dict()\n",
    "    \n",
    "    for letter in t:\n",
    "        if letter not in s:\n",
    "            total += 1\n",
    "        if letter in s:\n",
    "            if letter not in dt:\n",
    "                cs = s.count(letter)\n",
    "                ct = t.count(letter)\n",
    "                if ct - cs > 0:\n",
    "                    dt[letter] = ct - cs\n",
    "                else:\n",
    "                    dt[letter] = 0\n",
    "            \n",
    "    return total + sum(dt.values())"
   ]
  }
 ],
 "metadata": {
  "kernelspec": {
   "display_name": "Python 3",
   "language": "python",
   "name": "python3"
  },
  "language_info": {
   "codemirror_mode": {
    "name": "ipython",
    "version": 3
   },
   "file_extension": ".py",
   "mimetype": "text/x-python",
   "name": "python",
   "nbconvert_exporter": "python",
   "pygments_lexer": "ipython3",
   "version": "3.7.7"
  }
 },
 "nbformat": 4,
 "nbformat_minor": 4
}
