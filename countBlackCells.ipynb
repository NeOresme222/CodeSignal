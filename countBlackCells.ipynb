{
 "cells": [
  {
   "cell_type": "code",
   "execution_count": null,
   "metadata": {},
   "outputs": [],
   "source": [
    "def countBlackCells(n, m):\n",
    "    gcd = n\n",
    "    b = m\n",
    "\n",
    "    while b != 0:\n",
    "        gcd, b = b, gcd % b\n",
    "\n",
    "        \n",
    "    line_cells = n + m - gcd\n",
    "    line_corner_cells = (gcd - 1) * 2\n",
    "    return line_cells + line_corner_cells"
   ]
  }
 ],
 "metadata": {
  "kernelspec": {
   "display_name": "Python 3",
   "language": "python",
   "name": "python3"
  },
  "language_info": {
   "codemirror_mode": {
    "name": "ipython",
    "version": 3
   },
   "file_extension": ".py",
   "mimetype": "text/x-python",
   "name": "python",
   "nbconvert_exporter": "python",
   "pygments_lexer": "ipython3",
   "version": "3.7.7"
  }
 },
 "nbformat": 4,
 "nbformat_minor": 4
}
