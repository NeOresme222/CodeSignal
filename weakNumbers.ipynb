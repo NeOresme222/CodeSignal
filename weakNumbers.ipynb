{
 "cells": [
  {
   "cell_type": "code",
   "execution_count": null,
   "metadata": {},
   "outputs": [],
   "source": [
    "def weakNumbers(n):\n",
    "    \n",
    "    divlist = []\n",
    "    weaklist = []\n",
    "    \n",
    "    for i in range(1,n+1):\n",
    "        \n",
    "        divTally = 0\n",
    "        weakTally = 0\n",
    "        \n",
    "        for j in range(1,i+1):\n",
    "            if i % j == 0:\n",
    "                divTally += 1\n",
    "\n",
    "        for k in divlist:\n",
    "            if k > divTally:\n",
    "                weakTally += 1\n",
    "                \n",
    "        divlist.append(divTally)\n",
    "        weaklist.append(weakTally)\n",
    "    \n",
    "    maxWeak = max(weaklist)\n",
    "    \n",
    "    return [maxWeak, weaklist.count(maxWeak)]"
   ]
  }
 ],
 "metadata": {
  "kernelspec": {
   "display_name": "Python 3",
   "language": "python",
   "name": "python3"
  },
  "language_info": {
   "codemirror_mode": {
    "name": "ipython",
    "version": 3
   },
   "file_extension": ".py",
   "mimetype": "text/x-python",
   "name": "python",
   "nbconvert_exporter": "python",
   "pygments_lexer": "ipython3",
   "version": "3.7.7"
  }
 },
 "nbformat": 4,
 "nbformat_minor": 4
}
