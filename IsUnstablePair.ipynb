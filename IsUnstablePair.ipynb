{
 "cells": [
  {
   "cell_type": "code",
   "execution_count": null,
   "metadata": {},
   "outputs": [],
   "source": [
    "def isUnstablePair(filename1, filename2):\n",
    "    len1 = len(filename1)\n",
    "    len2 = len(filename2)\n",
    "    minlen = min(len1,len2)\n",
    "    \n",
    "\n",
    "    for i in range(minlen):\n",
    "        if filename1[i] > filename2[i]:\n",
    "            if filename1[i].lower() <= filename2[i].lower():\n",
    "                return len2 >= len1\n",
    "        if filename1[i] < filename2[i]:\n",
    "            if filename1[i].lower() >= filename2[i].lower():\n",
    "                return len2 <= len1\n",
    "        \n",
    "    return False"
   ]
  }
 ],
 "metadata": {
  "kernelspec": {
   "display_name": "Python 3",
   "language": "python",
   "name": "python3"
  },
  "language_info": {
   "codemirror_mode": {
    "name": "ipython",
    "version": 3
   },
   "file_extension": ".py",
   "mimetype": "text/x-python",
   "name": "python",
   "nbconvert_exporter": "python",
   "pygments_lexer": "ipython3",
   "version": "3.7.7"
  }
 },
 "nbformat": 4,
 "nbformat_minor": 4
}
