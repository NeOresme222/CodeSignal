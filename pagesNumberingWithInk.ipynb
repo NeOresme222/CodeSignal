{
 "cells": [
  {
   "cell_type": "code",
   "execution_count": null,
   "metadata": {},
   "outputs": [],
   "source": [
    "def pagesNumberingWithInk(current, numberOfDigits):\n",
    "    nd = numberOfDigits\n",
    "    while nd > 0:\n",
    "        page = len(str(current))\n",
    "        if nd >= page:\n",
    "            nd -= page\n",
    "            current += 1\n",
    "        if nd < page:\n",
    "            return current - 1"
   ]
  }
 ],
 "metadata": {
  "kernelspec": {
   "display_name": "Python 3",
   "language": "python",
   "name": "python3"
  },
  "language_info": {
   "codemirror_mode": {
    "name": "ipython",
    "version": 3
   },
   "file_extension": ".py",
   "mimetype": "text/x-python",
   "name": "python",
   "nbconvert_exporter": "python",
   "pygments_lexer": "ipython3",
   "version": "3.7.7"
  }
 },
 "nbformat": 4,
 "nbformat_minor": 4
}
