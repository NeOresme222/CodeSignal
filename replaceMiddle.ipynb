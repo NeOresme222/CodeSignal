{
 "cells": [
  {
   "cell_type": "code",
   "execution_count": null,
   "metadata": {},
   "outputs": [],
   "source": [
    "def replaceMiddle(arr):\n",
    "    \n",
    "    if len(arr) % 2 == 0:\n",
    "        mid = int(len(arr) / 2)\n",
    "        middle = (arr[mid - 1] + arr[mid])\n",
    "        del arr[mid]\n",
    "        \n",
    "        return [middle if i == mid - 1 else arr[i] for i in range(len(arr))]\n",
    "    \n",
    "    else:\n",
    "        return arr"
   ]
  }
 ],
 "metadata": {
  "kernelspec": {
   "display_name": "Python 3",
   "language": "python",
   "name": "python3"
  },
  "language_info": {
   "codemirror_mode": {
    "name": "ipython",
    "version": 3
   },
   "file_extension": ".py",
   "mimetype": "text/x-python",
   "name": "python",
   "nbconvert_exporter": "python",
   "pygments_lexer": "ipython3",
   "version": "3.7.7"
  }
 },
 "nbformat": 4,
 "nbformat_minor": 4
}
